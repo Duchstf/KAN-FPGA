{
 "cells": [
  {
   "cell_type": "code",
   "execution_count": 5,
   "metadata": {},
   "outputs": [],
   "source": [
    "from efficient_kan import KAN\n",
    "import torch.optim as optim\n",
    "import torch.nn as nn\n",
    "from tqdm import tqdm\n",
    "import numpy as np\n",
    "import torch\n",
    "import mplhep as hep\n",
    "hep.style.use(\"CMS\")\n",
    "import torch.nn.functional as F\n",
    "from torch.utils.data import TensorDataset, DataLoader\n",
    "torch.cuda.empty_cache()\n",
    "device = 'cuda' if torch.cuda.is_available() else 'cpu'\n",
    "\n",
    "from sklearn.metrics import roc_curve, auc\n",
    "import matplotlib.pyplot as plt\n",
    "# device = 'cpu'"
   ]
  },
  {
   "cell_type": "code",
   "execution_count": 6,
   "metadata": {},
   "outputs": [],
   "source": [
    "X_train=torch.from_numpy(np.load('data/X_train_val.npy')).float().to(device)\n",
    "y_train=torch.from_numpy(np.load('data/y_train_val.npy')).float().to(device).argmax(dim=1)\n",
    "X_test=torch.from_numpy(np.load('data/X_test.npy')).float().to(device)\n",
    "y_test=torch.from_numpy(np.load('data/y_test.npy')).float().to(device).argmax(dim=1)\n",
    "\n",
    "# Create TensorDataset objects\n",
    "train_dataset = TensorDataset(X_train, y_train)\n",
    "test_dataset = TensorDataset(X_test, y_test)\n",
    "\n",
    "# Create DataLoader objects\n",
    "batch_size = 64  # Adjust this based on your available memory\n",
    "trainloader = DataLoader(train_dataset, batch_size=batch_size, shuffle=True)\n",
    "testloader = DataLoader(test_dataset, batch_size=batch_size, shuffle=False)"
   ]
  },
  {
   "cell_type": "code",
   "execution_count": 7,
   "metadata": {},
   "outputs": [
    {
     "name": "stdout",
     "output_type": "stream",
     "text": [
      "2940\n"
     ]
    }
   ],
   "source": [
    "model = KAN([16,4,5], grid_size=30, spline_order=3, grid_eps=0.05, base_activation=nn.GELU, grid_range=[-5,5])\n",
    "print(sum(p.numel() for p in model.parameters()))"
   ]
  },
  {
   "cell_type": "code",
   "execution_count": 8,
   "metadata": {},
   "outputs": [],
   "source": [
    "# for i in range(15):\n",
    "#     plt.hist(X_train.cpu().numpy()[:,i], bins=100, range=(-5,5))\n",
    "#     plt.show()"
   ]
  },
  {
   "cell_type": "code",
   "execution_count": 9,
   "metadata": {},
   "outputs": [],
   "source": [
    "model.to(device)\n",
    "# Define optimizer\n",
    "optimizer = optim.AdamW(model.parameters(), lr=1e-4, weight_decay=1e-5)\n",
    "# Define learning rate scheduler\n",
    "scheduler = optim.lr_scheduler.ExponentialLR(optimizer, gamma=0.9)"
   ]
  },
  {
   "cell_type": "code",
   "execution_count": 10,
   "metadata": {},
   "outputs": [
    {
     "name": "stderr",
     "output_type": "stream",
     "text": [
      "100%|██████████| 10375/10375 [00:17<00:00, 604.33it/s, accuracy=0.688, loss=0.925, lr=0.0001]\n"
     ]
    },
    {
     "name": "stdout",
     "output_type": "stream",
     "text": [
      "Epoch 1, Val Loss: 0.8035608896771669, Val Accuracy: 0.7214746369980993\n"
     ]
    },
    {
     "name": "stderr",
     "output_type": "stream",
     "text": [
      "100%|██████████| 10375/10375 [00:16<00:00, 616.12it/s, accuracy=0.672, loss=0.994, lr=9e-5]\n"
     ]
    },
    {
     "name": "stdout",
     "output_type": "stream",
     "text": [
      "Epoch 2, Val Loss: 0.7525244999961295, Val Accuracy: 0.7349131007606283\n"
     ]
    },
    {
     "name": "stderr",
     "output_type": "stream",
     "text": [
      "100%|██████████| 10375/10375 [00:16<00:00, 617.41it/s, accuracy=0.797, loss=0.626, lr=8.1e-5]\n"
     ]
    },
    {
     "name": "stdout",
     "output_type": "stream",
     "text": [
      "Epoch 3, Val Loss: 0.7373613281693933, Val Accuracy: 0.7402921003751233\n"
     ]
    },
    {
     "name": "stderr",
     "output_type": "stream",
     "text": [
      "100%|██████████| 10375/10375 [00:16<00:00, 617.38it/s, accuracy=0.672, loss=0.809, lr=7.29e-5]\n"
     ]
    },
    {
     "name": "stdout",
     "output_type": "stream",
     "text": [
      "Epoch 4, Val Loss: 0.728964772468911, Val Accuracy: 0.7423280487174517\n"
     ]
    },
    {
     "name": "stderr",
     "output_type": "stream",
     "text": [
      "100%|██████████| 10375/10375 [00:16<00:00, 617.13it/s, accuracy=0.688, loss=0.838, lr=6.56e-5]\n"
     ]
    },
    {
     "name": "stdout",
     "output_type": "stream",
     "text": [
      "Epoch 5, Val Loss: 0.7230823457057235, Val Accuracy: 0.744285691354306\n"
     ]
    },
    {
     "name": "stderr",
     "output_type": "stream",
     "text": [
      "100%|██████████| 10375/10375 [00:17<00:00, 605.09it/s, accuracy=0.719, loss=0.673, lr=5.9e-5]\n"
     ]
    },
    {
     "name": "stdout",
     "output_type": "stream",
     "text": [
      "Epoch 6, Val Loss: 0.7189688165094086, Val Accuracy: 0.7455024415470585\n"
     ]
    },
    {
     "name": "stderr",
     "output_type": "stream",
     "text": [
      "100%|██████████| 10375/10375 [00:16<00:00, 622.92it/s, accuracy=0.828, loss=0.619, lr=5.31e-5]\n"
     ]
    },
    {
     "name": "stdout",
     "output_type": "stream",
     "text": [
      "Epoch 7, Val Loss: 0.7156047168472867, Val Accuracy: 0.7463035691492174\n"
     ]
    },
    {
     "name": "stderr",
     "output_type": "stream",
     "text": [
      "100%|██████████| 10375/10375 [00:16<00:00, 631.60it/s, accuracy=0.781, loss=0.705, lr=4.78e-5]\n"
     ]
    },
    {
     "name": "stdout",
     "output_type": "stream",
     "text": [
      "Epoch 8, Val Loss: 0.7130680248175756, Val Accuracy: 0.7476046485632497\n"
     ]
    },
    {
     "name": "stderr",
     "output_type": "stream",
     "text": [
      "100%|██████████| 10375/10375 [00:16<00:00, 632.10it/s, accuracy=0.766, loss=0.56, lr=4.3e-5] \n"
     ]
    },
    {
     "name": "stdout",
     "output_type": "stream",
     "text": [
      "Epoch 9, Val Loss: 0.7110616498114792, Val Accuracy: 0.7479238949009521\n"
     ]
    },
    {
     "name": "stderr",
     "output_type": "stream",
     "text": [
      "100%|██████████| 10375/10375 [00:16<00:00, 643.48it/s, accuracy=0.75, loss=0.695, lr=3.87e-5] \n"
     ]
    },
    {
     "name": "stdout",
     "output_type": "stream",
     "text": [
      "Epoch 10, Val Loss: 0.70937959049055, Val Accuracy: 0.7485824659547166\n"
     ]
    },
    {
     "name": "stderr",
     "output_type": "stream",
     "text": [
      "100%|██████████| 10375/10375 [00:15<00:00, 655.04it/s, accuracy=0.828, loss=0.591, lr=3.49e-5]\n"
     ]
    },
    {
     "name": "stdout",
     "output_type": "stream",
     "text": [
      "Epoch 11, Val Loss: 0.7079626138199268, Val Accuracy: 0.7491647391569274\n"
     ]
    },
    {
     "name": "stderr",
     "output_type": "stream",
     "text": [
      "100%|██████████| 10375/10375 [00:15<00:00, 654.41it/s, accuracy=0.719, loss=0.735, lr=3.14e-5]\n"
     ]
    },
    {
     "name": "stdout",
     "output_type": "stream",
     "text": [
      "Epoch 12, Val Loss: 0.7068833232316588, Val Accuracy: 0.7493775700410698\n"
     ]
    },
    {
     "name": "stderr",
     "output_type": "stream",
     "text": [
      "100%|██████████| 10375/10375 [00:15<00:00, 650.92it/s, accuracy=0.766, loss=0.646, lr=2.82e-5]\n"
     ]
    },
    {
     "name": "stdout",
     "output_type": "stream",
     "text": [
      "Epoch 13, Val Loss: 0.7057936670877608, Val Accuracy: 0.7499618510742232\n"
     ]
    },
    {
     "name": "stderr",
     "output_type": "stream",
     "text": [
      "100%|██████████| 10375/10375 [00:15<00:00, 653.80it/s, accuracy=0.781, loss=0.643, lr=2.54e-5]\n"
     ]
    },
    {
     "name": "stdout",
     "output_type": "stream",
     "text": [
      "Epoch 14, Val Loss: 0.7049752966936681, Val Accuracy: 0.750558179138988\n"
     ]
    },
    {
     "name": "stderr",
     "output_type": "stream",
     "text": [
      "100%|██████████| 10375/10375 [00:15<00:00, 657.14it/s, accuracy=0.672, loss=0.763, lr=2.29e-5]\n"
     ]
    },
    {
     "name": "stdout",
     "output_type": "stream",
     "text": [
      "Epoch 15, Val Loss: 0.7042573128834815, Val Accuracy: 0.7503714501490112\n"
     ]
    }
   ],
   "source": [
    "training_loss = []\n",
    "testing_loss = []\n",
    "\n",
    "# Define loss\n",
    "criterion = nn.CrossEntropyLoss()\n",
    "for epoch in range(15):\n",
    "    # Train\n",
    "    model.train()\n",
    "    epoch_train_loss = 0  # Initialize loss for the epoch\n",
    "    total_batches = 0\n",
    "    with tqdm(trainloader) as pbar:\n",
    "        for i, (inputs, labels) in enumerate(pbar):\n",
    "            inputs = inputs.to(device)\n",
    "            optimizer.zero_grad()\n",
    "            output = model(inputs)\n",
    "            loss = criterion(output, labels.to(device))\n",
    "            loss.backward()\n",
    "            optimizer.step()\n",
    "\n",
    "            epoch_train_loss += loss.item()\n",
    "            total_batches += 1\n",
    "\n",
    "            accuracy = (output.argmax(dim=1) == labels.to(device)).float().mean()\n",
    "            pbar.set_postfix(loss=loss.item(), accuracy=accuracy.item(), lr=optimizer.param_groups[0]['lr'])\n",
    "    \n",
    "    average_train_loss = epoch_train_loss / total_batches\n",
    "    training_loss.append(average_train_loss)  # Record the average training loss\n",
    "\n",
    "    # Validation\n",
    "    model.eval()\n",
    "    val_loss = 0\n",
    "    val_accuracy = 0\n",
    "    with torch.no_grad():\n",
    "        for inputs, labels in testloader:\n",
    "            inputs = inputs.to(device)\n",
    "            output = model(inputs)\n",
    "            val_loss += criterion(output, labels.to(device)).item()\n",
    "            val_accuracy += (\n",
    "                (output.argmax(dim=1) == labels.to(device)).float().mean().item()\n",
    "            )\n",
    "    val_loss /= len(testloader)\n",
    "    val_accuracy /= len(testloader)\n",
    "    testing_loss.append(val_loss)\n",
    "\n",
    "    # Update learning rate\n",
    "    scheduler.step()\n",
    "\n",
    "    print(\n",
    "        f\"Epoch {epoch + 1}, Val Loss: {val_loss}, Val Accuracy: {val_accuracy}\"\n",
    "    )"
   ]
  },
  {
   "cell_type": "code",
   "execution_count": null,
   "metadata": {},
   "outputs": [],
   "source": [
    "plt.plot(training_loss, label='KAN Training Loss',linewidth=5)\n",
    "plt.plot(testing_loss, label='KAN Testing Loss',linewidth=5)\n",
    "plt.xlabel('Epoch')\n",
    "plt.ylabel('Loss')\n",
    "plt.legend()"
   ]
  }
 ],
 "metadata": {
  "kernelspec": {
   "display_name": "kan",
   "language": "python",
   "name": "python3"
  },
  "language_info": {
   "codemirror_mode": {
    "name": "ipython",
    "version": 3
   },
   "file_extension": ".py",
   "mimetype": "text/x-python",
   "name": "python",
   "nbconvert_exporter": "python",
   "pygments_lexer": "ipython3",
   "version": "3.9.7"
  }
 },
 "nbformat": 4,
 "nbformat_minor": 2
}
