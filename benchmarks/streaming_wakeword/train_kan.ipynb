{
 "cells": [
  {
   "cell_type": "code",
   "execution_count": 26,
   "metadata": {},
   "outputs": [],
   "source": [
    "import matplotlib.pyplot as plt\n",
    "import numpy as np\n",
    "import os, argparse, json\n",
    "from argparse import Namespace\n",
    "import time\n",
    "\n",
    "import sys\n",
    "sys.path.append(os.path.abspath(\"/home/aarushg\"))\n",
    "\n",
    "import keras_model as models\n",
    "import get_dataset as str_ww_data\n",
    "import str_ww_util as util\n",
    "\n",
    "from torch.utils.data import DataLoader, Dataset\n",
    "import torch\n",
    "from torch import nn\n",
    "import torch.optim as optim\n",
    "import torch.nn.functional as F\n",
    "\n",
    "from efficient_kan import KAN\n",
    "\n",
    "from tqdm import tqdm\n",
    "import mplhep as hep\n",
    "hep.style.use(\"CMS\")\n",
    "\n",
    "from torch.utils.data import TensorDataset, DataLoader\n",
    "torch.cuda.empty_cache()\n",
    "device = 'cuda' if torch.cuda.is_available() else 'cpu'\n",
    "\n",
    "from KAN_Conv_Impl.KANLinear import KANLinear\n",
    "from KAN_Conv_Impl.KANConv import KANConv \n",
    "\n",
    "from sklearn.metrics import roc_curve, auc\n",
    "import matplotlib.pyplot as plt"
   ]
  },
  {
   "cell_type": "code",
   "execution_count": 27,
   "metadata": {},
   "outputs": [],
   "source": [
    "from types import SimpleNamespace\n",
    "\n",
    "flags = SimpleNamespace(**dict(num_background_clips=50, l2_reg=0.001, min_snr_training=0.5, min_snr_validation=0.5, min_snr_test=0.5, fraction_target_training=0.2, fraction_target_validation=0.2, fraction_target_test=0.2, fraction_silent_training=0.1, fraction_silent_validation=0.1, fraction_silent_test=0.1, foreground_volume_min_training=0.25, foreground_volume_min_validation=0.25, foreground_volume_min_test=0.25, foreground_volume_max_training=1.5, foreground_volume_max_validation=1.5, foreground_volume_max_test=1.5, background_volume_training=2.0, background_volume_validation=1.5, background_volume_test=0.0, background_frequency=0.8, time_shift_ms=100.0, clip_duration_ms=1000, window_size_ms=64.0, window_stride_ms=32.0, dct_coefficient_count=40, num_classes=3, num_samples_training=100000, num_samples_validation=100000, num_samples_test=-1, batch_size=100, sample_rate=16000, learning_rate=0.001, use_qat=True, epochs=5, pretrain_epochs=3, run_test_set=True, saved_model_path='trained_models/str_ww_model.h5', model_init_path=None, lr_sched_name='reduce_on_plateau', plot_dir='./plots', speech_commands_path='/home/aarushg/KAN-FPGA/bench_marks/streaming_wakeword/data/speech_commands_v0.02', musan_path='/home/aarushg/KAN-FPGA/bench_marks/streaming_wakeword/data/musan'))"
   ]
  },
  {
   "cell_type": "code",
   "execution_count": 28,
   "metadata": {},
   "outputs": [],
   "source": [
    "def preprocess(data):\n",
    "    x, y = data[0].numpy(), data[1].numpy()\n",
    "    torch_x = torch.from_numpy(x)\n",
    "    # return torch_x.view(torch_x.shape[1], torch_x.shape[0], *torch_x.shape[2:]), y\n",
    "    return torch_x.transpose(0, 2).transpose(1, 2), y\n",
    "    # return torch_x,y\n",
    "\n",
    "class SimpleDataset(Dataset):\n",
    "    def __init__(self, data):\n",
    "        self.data = data  # Store the (x, y) pairs\n",
    "\n",
    "    def __len__(self):\n",
    "        return len(self.data)  # Number of samples\n",
    "\n",
    "    def __getitem__(self, idx):\n",
    "        return self.data[idx]  # Get a single (x, y) pair"
   ]
  },
  {
   "cell_type": "code",
   "execution_count": 29,
   "metadata": {},
   "outputs": [
    {
     "name": "stderr",
     "output_type": "stream",
     "text": [
      "/tmp/ipykernel_86732/2515949100.py:8: FutureWarning: You are using `torch.load` with `weights_only=False` (the current default value), which uses the default pickle module implicitly. It is possible to construct malicious pickle data which will execute arbitrary code during unpickling (See https://github.com/pytorch/pytorch/blob/main/SECURITY.md#untrusted-models for more details). In a future release, the default value for `weights_only` will be flipped to `True`. This limits the functions that could be executed during unpickling. Arbitrary objects will no longer be allowed to be loaded via this mode unless they are explicitly allowlisted by the user via `torch.serialization.add_safe_globals`. We recommend you start setting `weights_only=True` for any use case where you don't have full control of the loaded file. Please open an issue on GitHub for any issues related to this experimental feature.\n",
      "  train_dataset = torch.load(f\"{SAVE_DIR}/train_dataset.pth\")\n",
      "/tmp/ipykernel_86732/2515949100.py:9: FutureWarning: You are using `torch.load` with `weights_only=False` (the current default value), which uses the default pickle module implicitly. It is possible to construct malicious pickle data which will execute arbitrary code during unpickling (See https://github.com/pytorch/pytorch/blob/main/SECURITY.md#untrusted-models for more details). In a future release, the default value for `weights_only` will be flipped to `True`. This limits the functions that could be executed during unpickling. Arbitrary objects will no longer be allowed to be loaded via this mode unless they are explicitly allowlisted by the user via `torch.serialization.add_safe_globals`. We recommend you start setting `weights_only=True` for any use case where you don't have full control of the loaded file. Please open an issue on GitHub for any issues related to this experimental feature.\n",
      "  val_dataset = torch.load(f\"{SAVE_DIR}/val_dataset.pth\")\n",
      "/tmp/ipykernel_86732/2515949100.py:10: FutureWarning: You are using `torch.load` with `weights_only=False` (the current default value), which uses the default pickle module implicitly. It is possible to construct malicious pickle data which will execute arbitrary code during unpickling (See https://github.com/pytorch/pytorch/blob/main/SECURITY.md#untrusted-models for more details). In a future release, the default value for `weights_only` will be flipped to `True`. This limits the functions that could be executed during unpickling. Arbitrary objects will no longer be allowed to be loaded via this mode unless they are explicitly allowlisted by the user via `torch.serialization.add_safe_globals`. We recommend you start setting `weights_only=True` for any use case where you don't have full control of the loaded file. Please open an issue on GitHub for any issues related to this experimental feature.\n",
      "  test_dataset = torch.load(f\"{SAVE_DIR}/test_dataset.pth\")\n"
     ]
    },
    {
     "name": "stdout",
     "output_type": "stream",
     "text": [
      "Elapsed time (loading dataset): 6.466406 seconds\n",
      "Elapsed time (constructing dataloader): 0.119033 seconds\n"
     ]
    }
   ],
   "source": [
    "BATCH_SIZE = 256\n",
    "SAVE_DIR = \"/home/aarushg/KAN-FPGA/bench_marks/streaming_wakeword/datasets\"\n",
    "\n",
    "start_time = time.time()\n",
    "\n",
    "if os.path.exists(f\"{SAVE_DIR}/train_dataset.pth\"):\n",
    "\n",
    "    train_dataset = torch.load(f\"{SAVE_DIR}/train_dataset.pth\")\n",
    "    val_dataset = torch.load(f\"{SAVE_DIR}/val_dataset.pth\")\n",
    "    test_dataset = torch.load(f\"{SAVE_DIR}/test_dataset.pth\")\n",
    "\n",
    "else:\n",
    "\n",
    "    ds_train_tf, ds_test_tf, ds_val_tf = str_ww_data.get_all_datasets(flags)\n",
    "\n",
    "    train_dataset = SimpleDataset(list(map(preprocess, ds_train_tf.unbatch())))\n",
    "    test_dataset = SimpleDataset(list(map(preprocess, ds_test_tf.unbatch())))\n",
    "    val_dataset = SimpleDataset(list(map(preprocess, ds_val_tf.unbatch())))\n",
    "\n",
    "    torch.save(train_dataset, f\"{SAVE_DIR}/train_dataset.pth\")\n",
    "    torch.save(val_dataset, f\"{SAVE_DIR}/val_dataset.pth\")\n",
    "    torch.save(test_dataset, f\"{SAVE_DIR}/test_dataset.pth\")\n",
    "\n",
    "end_time = time.time()  # Record the end time\n",
    "elapsed_time = end_time - start_time\n",
    "\n",
    "print(f\"Elapsed time (loading dataset): {elapsed_time:.6f} seconds\")\n",
    "\n",
    "start_time = time.time() \n",
    "\n",
    "train_loader = DataLoader(train_dataset, batch_size = BATCH_SIZE, shuffle = True, drop_last = True)\n",
    "val_loader = DataLoader(val_dataset, batch_size = BATCH_SIZE, shuffle = True, drop_last = True)\n",
    "test_loader = DataLoader(test_dataset, batch_size = BATCH_SIZE, shuffle = True, drop_last = True)\n",
    "\n",
    "end_time = time.time()  # Record the end time\n",
    "elapsed_time = end_time - start_time\n",
    "\n",
    "print(f\"Elapsed time (constructing dataloader): {elapsed_time:.6f} seconds\")"
   ]
  },
  {
   "cell_type": "code",
   "execution_count": 30,
   "metadata": {},
   "outputs": [
    {
     "name": "stdout",
     "output_type": "stream",
     "text": [
      "torch.Size([256, 40, 30, 1])\n",
      "torch.Size([256, 3])\n"
     ]
    }
   ],
   "source": [
    "for x, y in train_loader:\n",
    "    print(x.shape)\n",
    "    print(y.shape)\n",
    "    break"
   ]
  },
  {
   "cell_type": "code",
   "execution_count": 31,
   "metadata": {},
   "outputs": [],
   "source": [
    "# model = KAN([N_inputs, 256, 256, 256, N_outputs], grid_size=40, spline_order=4, grid_eps=0.03, base_activation=nn.GELU, grid_range=[-8,8])\n",
    "\n",
    "def make_kan_cnn():\n",
    "\n",
    "  model = nn.Sequential(\n",
    "    KANConv(in_channels=40, out_channels=40, kernel_size=(3, 1), stride=(1,1), padding=(0, 0)),\n",
    "    KANConv(in_channels=40, out_channels=128, kernel_size=(1, 1)),\n",
    "    nn.BatchNorm2d(128),\n",
    "    nn.GELU(),\n",
    "    nn.Dropout(p=0.5),\n",
    "\n",
    "    KANConv(in_channels=128, out_channels=128, kernel_size=(5, 1), stride=(1,1), padding=(0, 0)),\n",
    "    KANConv(in_channels=128, out_channels=128, kernel_size=(1, 1)),\n",
    "    nn.BatchNorm2d(128),\n",
    "    nn.GELU(),\n",
    "    nn.Dropout(p=0.5),\n",
    "\n",
    "    KANConv(in_channels=128, out_channels=128, kernel_size=(9, 1), stride=(1,1), padding=(0, 0)),\n",
    "    KANConv(in_channels=128, out_channels=128, kernel_size=(1, 1)),\n",
    "    nn.BatchNorm2d(128),\n",
    "    nn.GELU(),\n",
    "    nn.Dropout(p=0.5),\n",
    "\n",
    "    KANConv(in_channels=128, out_channels=128, kernel_size=(15, 1), stride=(1,1), padding=(0, 0)),\n",
    "    KANConv(in_channels=128, out_channels=32, kernel_size=(1, 1)),\n",
    "    nn.BatchNorm2d(32),\n",
    "    nn.GELU(),\n",
    "    nn.Dropout(p=0.5),\n",
    "\n",
    "    nn.Flatten(),\n",
    "    KANLinear(64, 3)\n",
    "  ).to(device)\n",
    "\n",
    "  print(\"Num parameters for KAN CNN\", sum(p.numel() for p in model.parameters()))\n",
    "  return model"
   ]
  },
  {
   "cell_type": "code",
   "execution_count": 32,
   "metadata": {},
   "outputs": [],
   "source": [
    "# model = KAN([N_inputs, 256, 256, 256, N_outputs], grid_size=40, spline_order=4, grid_eps=0.03, base_activation=nn.GELU, grid_range=[-8,8])\n",
    "\n",
    "def make_mini_kan_cnn():\n",
    "\n",
    "  model = nn.Sequential(\n",
    "    KANConv(in_channels=40, out_channels=32, kernel_size=(3, 1), stride=(1,1), padding=(0, 0)),\n",
    "    nn.BatchNorm2d(32),\n",
    "    nn.ReLU(),\n",
    "    nn.Dropout(p=0.5),\n",
    "\n",
    "    KANConv(in_channels=32, out_channels=32, kernel_size=(5, 1), stride=(1,1), padding=(0, 0)),\n",
    "    nn.BatchNorm2d(32),\n",
    "    nn.ReLU(),\n",
    "    nn.Dropout(p=0.5),\n",
    "\n",
    "    # KANConv(in_channels=32, out_channels=32, kernel_size=(9, 1), stride=(1,1), padding=(0, 0)),\n",
    "    # nn.BatchNorm2d(32),\n",
    "    # nn.ReLU(),\n",
    "    # nn.Dropout(p=0.5),\n",
    "\n",
    "    KANConv(in_channels=32, out_channels=8, kernel_size=(15, 1), stride=(1,1), padding=(0, 0)),\n",
    "    nn.BatchNorm2d(8),\n",
    "    nn.ReLU(),\n",
    "    nn.Dropout(p=0.5),\n",
    "\n",
    "    nn.Flatten(),\n",
    "    KANLinear(80, 3)\n",
    "  ).to(device)\n",
    "\n",
    "  print(\"Num parameters for MINI KAN CNN\", sum(p.numel() for p in model.parameters()))\n",
    "  return model"
   ]
  },
  {
   "cell_type": "code",
   "execution_count": 33,
   "metadata": {},
   "outputs": [],
   "source": [
    "def make_cnn():\n",
    "    model = nn.Sequential(\n",
    "        # First Depthwise + Pointwise Conv Block\n",
    "        nn.Conv2d(in_channels=40, out_channels=40, kernel_size=(3, 1), stride=1, padding=0),  # Depthwise\n",
    "        nn.Conv2d(in_channels=40, out_channels=128, kernel_size=1),  # Pointwise\n",
    "        nn.BatchNorm2d(128),\n",
    "        nn.ReLU(),\n",
    "        nn.Dropout(0.5),  # Dropout rate assumed to be 0.5\n",
    "\n",
    "        # Second Depthwise + Pointwise Conv Block\n",
    "        nn.Conv2d(in_channels=128, out_channels=128, kernel_size=(5, 1), stride=1, padding=0),  # Depthwise\n",
    "        nn.Conv2d(in_channels=128, out_channels=128, kernel_size=1),  # Pointwise\n",
    "        nn.BatchNorm2d(128),\n",
    "        nn.ReLU(),\n",
    "        nn.Dropout(0.5),\n",
    "\n",
    "        # Third Depthwise + Pointwise Conv Block\n",
    "        nn.Conv2d(in_channels=128, out_channels=128, kernel_size=(9, 1), stride=1, padding=0),  # Depthwise\n",
    "        nn.Conv2d(in_channels=128, out_channels=128, kernel_size=1),  # Pointwise\n",
    "        nn.BatchNorm2d(128),\n",
    "        nn.ReLU(),\n",
    "        nn.Dropout(0.5),\n",
    "\n",
    "        # Fourth Depthwise + Pointwise Conv Block\n",
    "        nn.Conv2d(in_channels=128, out_channels=128, kernel_size=(15, 1), stride=1, padding=0),  # Depthwise\n",
    "        nn.Conv2d(in_channels=128, out_channels=32, kernel_size=1),  # Pointwise\n",
    "        nn.BatchNorm2d(32),\n",
    "        nn.ReLU(),\n",
    "        nn.Dropout(0.5),\n",
    "\n",
    "        # Flatten and Dense layers\n",
    "        nn.Flatten(),\n",
    "        nn.Linear(64, 3)  # Fully connected layer with 3 output classes\n",
    "    )\n",
    "    return model"
   ]
  },
  {
   "cell_type": "code",
   "execution_count": 34,
   "metadata": {},
   "outputs": [
    {
     "name": "stdout",
     "output_type": "stream",
     "text": [
      "Num parameters for MINI KAN CNN 130544\n"
     ]
    }
   ],
   "source": [
    "model = make_mini_kan_cnn()\n",
    "model.to(device)\n",
    "# Define optimizer\n",
    "optimizer = optim.AdamW(model.parameters(), lr=1e-4, weight_decay=1e-5)\n",
    "# Define learning rate scheduler\n",
    "scheduler = optim.lr_scheduler.ExponentialLR(optimizer, gamma=0.9)"
   ]
  },
  {
   "cell_type": "code",
   "execution_count": 25,
   "metadata": {},
   "outputs": [
    {
     "name": "stderr",
     "output_type": "stream",
     "text": [
      "  2%|▏         | 7/390 [00:10<09:23,  1.47s/it, accuracy=0.262, loss=1.29, lr=0.0001]"
     ]
    }
   ],
   "source": [
    "train_losses = []\n",
    "val_losses = []\n",
    "\n",
    "# Define loss\n",
    "criterion = nn.CrossEntropyLoss()\n",
    "for epoch in range(30):\n",
    "    # Train\n",
    "    model.train()\n",
    "    epoch_train_loss = 0  # Initialize loss for the epoch\n",
    "    total_batches = 0\n",
    "    with tqdm(train_loader) as pbar:\n",
    "        for i, (inputs, labels) in enumerate(pbar):\n",
    "            inputs = inputs.to(device)\n",
    "            optimizer.zero_grad()\n",
    "            output = model(inputs)\n",
    "            loss = criterion(output, labels.to(device))\n",
    "            loss.backward()\n",
    "            optimizer.step()\n",
    "\n",
    "            epoch_train_loss += loss.item()\n",
    "            total_batches += 1\n",
    "\n",
    "            accuracy = (output.argmax(dim=1) == labels.argmax(dim=1).to(device)).float().mean()\n",
    "            pbar.set_postfix(loss=loss.item(), accuracy=accuracy.item(), lr=optimizer.param_groups[0]['lr'])\n",
    "    \n",
    "    average_train_loss = epoch_train_loss / total_batches\n",
    "    train_losses.append(average_train_loss)  # Record the average training loss\n",
    "\n",
    "    # Validation\n",
    "    model.eval()\n",
    "    val_loss = 0\n",
    "    val_accuracy = 0\n",
    "    with torch.no_grad():\n",
    "        for inputs, labels in val_loader:\n",
    "            inputs = inputs.to(device)\n",
    "            output = model(inputs)\n",
    "            val_loss += criterion(output, labels.to(device)).item()\n",
    "            val_accuracy += (\n",
    "                (output.argmax(dim=1) == labels.argmax(dim=1).to(device)).float().mean().item()\n",
    "            )\n",
    "    val_loss /= len(val_loader)\n",
    "    val_accuracy /= len(val_loader)\n",
    "    val_losses.append(val_loss)\n",
    "\n",
    "    # Update learning rate\n",
    "    scheduler.step()\n",
    "\n",
    "    print(\n",
    "        f\"Epoch {epoch + 1}, Val Loss: {val_loss}, Val Accuracy: {val_accuracy}\"\n",
    "    )"
   ]
  }
 ],
 "metadata": {
  "kernelspec": {
   "display_name": "Python 3",
   "language": "python",
   "name": "python3"
  },
  "language_info": {
   "codemirror_mode": {
    "name": "ipython",
    "version": 3
   },
   "file_extension": ".py",
   "mimetype": "text/x-python",
   "name": "python",
   "nbconvert_exporter": "python",
   "pygments_lexer": "ipython3",
   "version": "3.9.21"
  }
 },
 "nbformat": 4,
 "nbformat_minor": 2
}
