{
 "cells": [
  {
   "cell_type": "code",
   "execution_count": 2,
   "metadata": {},
   "outputs": [],
   "source": [
    "from efficient_kan import KAN\n",
    "import torch\n",
    "import numpy as np\n",
    "device = 'cuda' if torch.cuda.is_available() else 'cpu'\n",
    "import torch.nn.functional as F\n",
    "from matplotlib import pyplot as plt"
   ]
  },
  {
   "cell_type": "code",
   "execution_count": 5,
   "metadata": {},
   "outputs": [
    {
     "name": "stdout",
     "output_type": "stream",
     "text": [
      "convert_kan_to_cpp.py  templates  test.ipynb\n"
     ]
    }
   ],
   "source": [
    "# Original model\n",
    "# model = KAN([16,4,5], grid_size=40, spline_order=4, grid_eps=0.03, base_activation=nn.GELU, grid_range=[-8,8])\n",
    "!ls"
   ]
  },
  {
   "cell_type": "code",
   "execution_count": 6,
   "metadata": {},
   "outputs": [],
   "source": [
    "SAVE_PATH = \"../mini_kan.pt\"\n",
    "model = torch.load(SAVE_PATH, weights_only=False)"
   ]
  },
  {
   "cell_type": "code",
   "execution_count": 7,
   "metadata": {},
   "outputs": [],
   "source": [
    "def get_activation_values(layer_i, inp_node, out_node, grid_range=[-8, 8], resolution=256):\n",
    "\n",
    "    layer = model.layers[layer_i]\n",
    "\n",
    "    # Create dummy input\n",
    "    array = np.linspace(grid_range[0], grid_range[1], resolution)\n",
    "    stacked_array = np.hstack([[array]*layer.in_features]).T\n",
    "    x = torch.from_numpy(stacked_array).float().to(device)\n",
    "\n",
    "    #Loop through each activation function\n",
    "    base_output = layer.base_activation(x)[: , inp_node] * layer.base_weight[out_node, inp_node]\n",
    "    spline_output = F.linear(layer.b_splines(x)[:, out_node, :], layer.scaled_spline_weight[out_node, inp_node, :])\n",
    "\n",
    "    return base_output + spline_output\n"
   ]
  },
  {
   "cell_type": "code",
   "execution_count": 8,
   "metadata": {},
   "outputs": [
    {
     "name": "stdout",
     "output_type": "stream",
     "text": [
      "Layer 0 has 16 input nodes and 4 output nodes\n",
      "Layer 1 has 4 input nodes and 5 output nodes\n"
     ]
    }
   ],
   "source": [
    "for i, layer in enumerate(model.layers):\n",
    "    print(f\"Layer {i} has {layer.in_features} input nodes and {layer.out_features} output nodes\")"
   ]
  },
  {
   "cell_type": "code",
   "execution_count": 9,
   "metadata": {},
   "outputs": [
    {
     "ename": "IndexError",
     "evalue": "index 4 is out of bounds for dimension 1 with size 4",
     "output_type": "error",
     "traceback": [
      "\u001b[0;31m---------------------------------------------------------------------------\u001b[0m",
      "\u001b[0;31mIndexError\u001b[0m                                Traceback (most recent call last)",
      "Cell \u001b[0;32mIn[9], line 1\u001b[0m\n\u001b[0;32m----> 1\u001b[0m \u001b[43mget_activation_values\u001b[49m\u001b[43m(\u001b[49m\u001b[38;5;241;43m1\u001b[39;49m\u001b[43m,\u001b[49m\u001b[43m \u001b[49m\u001b[38;5;241;43m0\u001b[39;49m\u001b[43m,\u001b[49m\u001b[43m \u001b[49m\u001b[38;5;241;43m4\u001b[39;49m\u001b[43m)\u001b[49m\n",
      "Cell \u001b[0;32mIn[7], line 12\u001b[0m, in \u001b[0;36mget_activation_values\u001b[0;34m(layer_i, inp_node, out_node, grid_range, resolution)\u001b[0m\n\u001b[1;32m     10\u001b[0m \u001b[38;5;66;03m#Loop through each activation function\u001b[39;00m\n\u001b[1;32m     11\u001b[0m base_output \u001b[38;5;241m=\u001b[39m layer\u001b[38;5;241m.\u001b[39mbase_activation(x)[: , inp_node] \u001b[38;5;241m*\u001b[39m layer\u001b[38;5;241m.\u001b[39mbase_weight[out_node, inp_node]\n\u001b[0;32m---> 12\u001b[0m spline_output \u001b[38;5;241m=\u001b[39m F\u001b[38;5;241m.\u001b[39mlinear(\u001b[43mlayer\u001b[49m\u001b[38;5;241;43m.\u001b[39;49m\u001b[43mb_splines\u001b[49m\u001b[43m(\u001b[49m\u001b[43mx\u001b[49m\u001b[43m)\u001b[49m\u001b[43m[\u001b[49m\u001b[43m:\u001b[49m\u001b[43m,\u001b[49m\u001b[43m \u001b[49m\u001b[43mout_node\u001b[49m\u001b[43m,\u001b[49m\u001b[43m \u001b[49m\u001b[43m:\u001b[49m\u001b[43m]\u001b[49m, layer\u001b[38;5;241m.\u001b[39mscaled_spline_weight[out_node, inp_node, :])\n\u001b[1;32m     14\u001b[0m \u001b[38;5;28;01mreturn\u001b[39;00m base_output \u001b[38;5;241m+\u001b[39m spline_output\n",
      "\u001b[0;31mIndexError\u001b[0m: index 4 is out of bounds for dimension 1 with size 4"
     ]
    }
   ],
   "source": [
    "get_activation_values(1, 0, 4)"
   ]
  },
  {
   "cell_type": "code",
   "execution_count": null,
   "metadata": {},
   "outputs": [],
   "source": []
  }
 ],
 "metadata": {
  "kernelspec": {
   "display_name": "Python 3",
   "language": "python",
   "name": "python3"
  },
  "language_info": {
   "codemirror_mode": {
    "name": "ipython",
    "version": 3
   },
   "file_extension": ".py",
   "mimetype": "text/x-python",
   "name": "python",
   "nbconvert_exporter": "python",
   "pygments_lexer": "ipython3",
   "version": "3.9.21"
  }
 },
 "nbformat": 4,
 "nbformat_minor": 2
}
